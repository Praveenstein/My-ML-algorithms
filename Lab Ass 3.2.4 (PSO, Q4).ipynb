{
 "cells": [
  {
   "cell_type": "code",
   "execution_count": 8,
   "metadata": {},
   "outputs": [
    {
     "name": "stdout",
     "output_type": "stream",
     "text": [
      "enter the number of variables: 20\n",
      "Enter the initial population size: 10\n",
      "Enter the minimum value of X: -500\n",
      "Enter the maximum value of X: 500\n",
      "Enter the max number of iterations: 100\n",
      "[ 413.06892288 -500.          231.72662434  500.         -500.\n",
      " -310.2099178  -150.6917132   420.1861433  -500.          436.30484716\n",
      "  500.          464.67560649  468.94412228   53.10553738  403.5532047\n",
      "  489.2293489  -500.          412.07970671  500.          412.8545182 ]\n",
      "[ -661.57852976 -1513.59155863 -1513.59155863 -1513.59155863\n",
      " -1731.31758253 -1731.31758253 -1731.31758253 -1731.31758253\n",
      " -1731.31758253 -1731.31758253 -1787.74140171 -1787.74140171\n",
      " -1787.74140171 -1787.74140171 -1787.74140171 -1787.74140171\n",
      " -2444.95515548 -2444.95515548 -2444.95515548 -2444.95515548\n",
      " -2444.95515548 -2444.95515548 -2444.95515548 -2444.95515548\n",
      " -2444.95515548 -2444.95515548 -2444.95515548 -2444.95515548\n",
      " -2444.95515548 -2444.95515548 -2444.95515548 -2444.95515548\n",
      " -2444.95515548 -2444.95515548 -2820.44091987 -3378.89622521\n",
      " -3378.89622521 -3378.89622521 -3378.89622521 -3378.89622521\n",
      " -3378.89622521 -3378.89622521 -3378.89622521 -3378.89622521\n",
      " -3378.89622521 -3378.89622521 -3378.89622521 -3378.89622521\n",
      " -3378.89622521 -3378.89622521 -3378.89622521 -3378.89622521\n",
      " -3378.89622521 -3378.89622521 -3378.89622521 -3378.89622521\n",
      " -3378.89622521 -3378.89622521 -3378.89622521 -3378.89622521\n",
      " -3378.89622521 -3378.89622521 -3378.89622521 -3378.89622521\n",
      " -3378.89622521 -3378.89622521 -3378.89622521 -3378.89622521\n",
      " -3378.89622521 -3378.89622521 -3378.89622521 -3378.89622521\n",
      " -3378.89622521 -3378.89622521 -3378.89622521 -3378.89622521\n",
      " -3378.89622521 -3378.89622521 -3378.89622521 -3378.89622521\n",
      " -3378.89622521 -3378.89622521 -3378.89622521 -3378.89622521\n",
      " -3378.89622521 -3378.89622521 -3378.89622521 -3378.89622521\n",
      " -3378.89622521 -3378.89622521 -3378.89622521 -3378.89622521\n",
      " -3378.89622521 -3378.89622521 -3378.89622521 -3378.89622521\n",
      " -3378.89622521 -3378.89622521 -3378.89622521 -3378.89622521\n",
      " -3378.89622521]\n"
     ]
    },
    {
     "data": {
      "image/png": "[encoded data removed]",
      "text/plain": [
       "<Figure size 432x288 with 1 Axes>"
      ]
     },
     "metadata": {
      "needs_background": "light"
     },
     "output_type": "display_data"
    }
   ],
   "source": [
    "#Generating Initial Population\n",
    "import numpy as np\n",
    "import matplotlib.pyplot as plt\n",
    "d=int(input(\"enter the number of variables: \"))\n",
    "N=int(input(\"Enter the initial population size: \"))\n",
    "xmin=float(input(\"Enter the minimum value of X: \"))\n",
    "xmax=float(input(\"Enter the maximum value of X: \"))\n",
    "iterations=int(input(\"Enter the max number of iterations: \"))\n",
    "def POP(d,N,xmin,xmax):\n",
    "    return ((np.random.rand(N,d))*(2*xmax))-xmax\n",
    "pop=POP(d,N,xmin,xmax)\n",
    "#intial setup\n",
    "def cfun(a):\n",
    "    l=0\n",
    "    for value in a:\n",
    "        o=(-value)*np.sin(np.sqrt(abs(value)))\n",
    "        l+=o\n",
    "    return l\n",
    "\n",
    "def GBEST(pbest):\n",
    "    cost=np.apply_along_axis(cfun,1,pbest)\n",
    "    gbestcost=np.argmin(cost)\n",
    "    return np.array([pbest[gbestcost,:]])\n",
    "def setup(pop):\n",
    "    cost=np.apply_along_axis(cfun,1,pop)\n",
    "    pbest=np.copy(pop)\n",
    "    v=np.zeros((N,d))\n",
    "    gbest= GBEST(pbest)\n",
    "    GBests=np.zeros((iterations+1,d))\n",
    "    GBests[0]=gbest\n",
    "    return cost, pbest, v, gbest, GBests\n",
    "cost, pbest, v, gbest, GBests= setup(pop)\n",
    "#updating v,x,pbest,gbest\n",
    "for x in range(0,iterations):\n",
    "    for i in range(0,N):\n",
    "        for j in range(0,d):\n",
    "            v[i,j]+=(2*(np.random.rand())*(pbest[i,j]-pop[i,j]))+(2*(np.random.rand())*(gbest[0,j]-pop[i,j]))\n",
    "            z=pop[i,j]+v[i,j]\n",
    "            if z<=xmin:\n",
    "                pop[i,j]=xmin\n",
    "            elif z>=xmax:\n",
    "                pop[i,j]=xmax\n",
    "            else:\n",
    "                pop[i,j]=z\n",
    "        if cfun(pop[i])<cfun(pbest[i]):\n",
    "            pbest[i]=pop[i]\n",
    "    gbest= GBEST(pbest)\n",
    "    GBests[x+1]=gbest\n",
    "print(GBests[-1,:])\n",
    "GBestscost=np.apply_along_axis(cfun,1,np.array(GBests))\n",
    "print(GBestscost)\n",
    "plt.plot(GBestscost)\n",
    "plt.show()"
   ]
  }
 ],
 "metadata": {
  "kernelspec": {
   "display_name": "Python 3",
   "language": "python",
   "name": "python3"
  },
  "language_info": {
   "codemirror_mode": {
    "name": "ipython",
    "version": 3
   },
   "file_extension": ".py",
   "mimetype": "text/x-python",
   "name": "python",
   "nbconvert_exporter": "python",
   "pygments_lexer": "ipython3",
   "version": "3.7.1"
  }
 },
 "nbformat": 4,
 "nbformat_minor": 2
}
