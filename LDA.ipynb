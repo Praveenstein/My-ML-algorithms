{
 "cells": [
  {
   "cell_type": "code",
   "execution_count": 1,
   "metadata": {},
   "outputs": [
    {
     "name": "stdout",
     "output_type": "stream",
     "text": [
      "                            0\n",
      "0   (-0.05721965670622241+0j)\n",
      "1    (0.07661370956952744+0j)\n",
      "2   (-0.06788620984812646+0j)\n",
      "3  (-0.029011971875095355+0j)\n",
      "4    (0.07910424868517321+0j)\n",
      "                           0\n",
      "0   (0.14337233500791202+0j)\n",
      "1   (0.24600880113437829+0j)\n",
      "2  (-0.02848594729483401+0j)\n",
      "3  (0.027597544539563118+0j)\n",
      "4  (-0.11341005479769281+0j)\n"
     ]
    }
   ],
   "source": [
    "import pandas as pd\n",
    "import numpy as np\n",
    "d=pd.read_csv('ionosphere.txt',header=None)\n",
    "class_1=np.array(d.loc[d[34]=='g']) #taking all rows whose 34th indexed column has values g\n",
    "class_1=np.array(class_1[:,:34]) #removing the 34th indexed column since it is a string \n",
    "class_1=class_1.astype(float) #by default the type of the array elements would be object, hence converting to float for computation\n",
    "class_2=np.array(d.loc[d[34]=='b'])\n",
    "class_2=np.array(class_2[:,:34])\n",
    "class_2=class_2.astype(float)\n",
    "def fun(a):\n",
    "    return np.mean(a)\n",
    "mean1=np.apply_along_axis(fun,0,class_1)\n",
    "class_1_u=class_1-mean1\n",
    "class_1_u_t=np.transpose(class_1_u)\n",
    "shape1=class_1.shape[0]\n",
    "s1=(np.matmul(class_1_u_t,class_1_u))/shape1\n",
    "mean2=np.apply_along_axis(fun,0,class_2)\n",
    "class_2_u=class_2-mean2\n",
    "class_2_u_t=np.transpose(class_2_u)\n",
    "shape2=class_2.shape[0]\n",
    "s2=(np.matmul(class_2_u_t,class_2_u))/shape2\n",
    "sw=s1+s2\n",
    "inv=np.linalg.pinv(sw) #since sw matrix is singular , we have to use pseudo inverse matrix\n",
    "M=np.array([mean1-mean2]) #the important logic is we're making the mean1-mean2 as a list, hence it is enclosed in a square matrix, only then we'll get it as [1*34] matrix, i.e list of array makes it as one row with 34 columns\n",
    "M_t=np.transpose(M)\n",
    "sb=np.matmul(M_t,M)\n",
    "z=np.matmul(inv,sb)\n",
    "e,v=np.linalg.eig(z)\n",
    "ei=np.argsort(-e) #getting the index of the elements sorted in descending order\n",
    "e=np.sort(-e)*-1 #sorting the array in descnding order\n",
    "su=np.sum(e)\n",
    "v=v[:,ei] #getting all rows of v and columns in the ei order, i.e sorted according to the sorted eigen values(descending order)\n",
    "eigenvector=pd.DataFrame(v,columns=e)\n",
    "reduced_class_1=np.matmul(class_1_u,v[:,0:1]) #since the k=1, so we may need another way to select k value, hence assuming it as 18 from previous PCA program\n",
    "reduced_class_1_u_frame=pd.DataFrame(reduced_class_1) # The eigen vector is multiplied with zero mean data and not the original, i hope it correct....hahahaha....bla bla bal\n",
    "print(reduced_class_1_u_frame.head())\n",
    "reduced_class_2=np.matmul(class_2_u,v[:,0:1])\n",
    "reduced_class_2_u_frame=pd.DataFrame(reduced_class_2)\n",
    "print(reduced_class_2_u_frame.head()) #no more comments dude, program over.....bubyeee.....nice chatting with you, PS..........................PraveenStein....if in case you don't what PS means.....eeeee......boom boom...."
   ]
  }
 ],
 "metadata": {
  "kernelspec": {
   "display_name": "Python 3",
   "language": "python",
   "name": "python3"
  },
  "language_info": {
   "codemirror_mode": {
    "name": "ipython",
    "version": 3
   },
   "file_extension": ".py",
   "mimetype": "text/x-python",
   "name": "python",
   "nbconvert_exporter": "python",
   "pygments_lexer": "ipython3",
   "version": "3.7.1"
  }
 },
 "nbformat": 4,
 "nbformat_minor": 2
}
