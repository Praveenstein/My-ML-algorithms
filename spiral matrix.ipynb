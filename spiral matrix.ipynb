{
 "cells": [
  {
   "cell_type": "code",
   "execution_count": 8,
   "metadata": {},
   "outputs": [
    {
     "data": {
      "text/plain": [
       "array([[1., 1., 1., 1., 1., 1., 1., 1., 1., 1., 1., 1., 1.],\n",
       "       [1., 2., 2., 2., 2., 2., 2., 2., 2., 2., 2., 2., 1.],\n",
       "       [1., 2., 3., 3., 3., 3., 3., 3., 3., 3., 3., 2., 1.],\n",
       "       [1., 2., 3., 4., 4., 4., 4., 4., 4., 4., 3., 2., 1.],\n",
       "       [1., 2., 3., 4., 5., 5., 5., 5., 5., 4., 3., 2., 1.],\n",
       "       [1., 2., 3., 4., 5., 6., 6., 6., 5., 4., 3., 2., 1.],\n",
       "       [1., 2., 3., 4., 5., 6., 7., 6., 5., 4., 3., 2., 1.],\n",
       "       [1., 2., 3., 4., 5., 6., 6., 6., 5., 4., 3., 2., 1.],\n",
       "       [1., 2., 3., 4., 5., 5., 5., 5., 5., 4., 3., 2., 1.],\n",
       "       [1., 2., 3., 4., 4., 4., 4., 4., 4., 4., 3., 2., 1.],\n",
       "       [1., 2., 3., 3., 3., 3., 3., 3., 3., 3., 3., 2., 1.],\n",
       "       [1., 2., 2., 2., 2., 2., 2., 2., 2., 2., 2., 2., 1.],\n",
       "       [1., 1., 1., 1., 1., 1., 1., 1., 1., 1., 1., 1., 1.]])"
      ]
     },
     "execution_count": 8,
     "metadata": {},
     "output_type": "execute_result"
    }
   ],
   "source": [
    "import numpy as np\n",
    "n=13\n",
    "x=np.zeros((n,n))\n",
    "z=1\n",
    "si=0\n",
    "ei=n\n",
    "sic=0\n",
    "eic=n\n",
    "row=[0,n-1]\n",
    "column=[0,n-1]\n",
    "l=int((n+1)/2)\n",
    "f=1\n",
    "for k in range(0,l):\n",
    "    for i in row:\n",
    "        for j in range(si,ei):\n",
    "            x[i,j]=z\n",
    "    si+=1\n",
    "    ei-=1\n",
    "    row[0]+=1\n",
    "    row[1]-=1\n",
    "    z+=1\n",
    "for k in range(0,l):\n",
    "    for j in column:\n",
    "        for i in range(sic,eic):\n",
    "            x[i,j]=f\n",
    "    sic+=1\n",
    "    eic-=1\n",
    "    column[0]+=1\n",
    "    column[1]-=1\n",
    "    f+=1\n",
    "x\n"
   ]
  }
 ],
 "metadata": {
  "kernelspec": {
   "display_name": "Python 3",
   "language": "python",
   "name": "python3"
  },
  "language_info": {
   "codemirror_mode": {
    "name": "ipython",
    "version": 3
   },
   "file_extension": ".py",
   "mimetype": "text/x-python",
   "name": "python",
   "nbconvert_exporter": "python",
   "pygments_lexer": "ipython3",
   "version": "3.7.1"
  }
 },
 "nbformat": 4,
 "nbformat_minor": 2
}
