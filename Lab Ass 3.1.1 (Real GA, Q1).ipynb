{
 "cells": [
  {
   "cell_type": "code",
   "execution_count": 43,
   "metadata": {},
   "outputs": [
    {
     "data": {
      "image/png": "[encoded data removed]",
      "text/plain": [
       "<Figure size 432x288 with 1 Axes>"
      ]
     },
     "metadata": {
      "needs_background": "light"
     },
     "output_type": "display_data"
    },
    {
     "data": {
      "image/png": "[encoded data removed]",
      "text/plain": [
       "<Figure size 432x288 with 1 Axes>"
      ]
     },
     "metadata": {
      "needs_background": "light"
     },
     "output_type": "display_data"
    },
    {
     "data": {
      "image/png": "[encoded data removed]",
      "text/plain": [
       "<Figure size 432x288 with 1 Axes>"
      ]
     },
     "metadata": {
      "needs_background": "light"
     },
     "output_type": "display_data"
    },
    {
     "data": {
      "image/png": "[encoded data removed]",
      "text/plain": [
       "<Figure size 432x288 with 1 Axes>"
      ]
     },
     "metadata": {
      "needs_background": "light"
     },
     "output_type": "display_data"
    },
    {
     "data": {
      "text/plain": [
       "array([[4.91949637],\n",
       "       [4.88812763],\n",
       "       [4.88825803],\n",
       "       [4.7322425 ],\n",
       "       [4.7322425 ],\n",
       "       [4.73041271],\n",
       "       [4.7137554 ],\n",
       "       [4.71364283],\n",
       "       [4.71344174],\n",
       "       [4.71344174],\n",
       "       [4.71344174],\n",
       "       [4.71344174],\n",
       "       [4.71344173],\n",
       "       [4.71344173],\n",
       "       [4.71344173],\n",
       "       [4.71344173],\n",
       "       [4.71138014],\n",
       "       [4.71139687],\n",
       "       [4.71334235],\n",
       "       [4.71326686]])"
      ]
     },
     "execution_count": 43,
     "metadata": {},
     "output_type": "execute_result"
    }
   ],
   "source": [
    "#Generating Initial Population\n",
    "import numpy as np\n",
    "import matplotlib.pyplot as plt\n",
    "d=1\n",
    "N=10\n",
    "xmin=0\n",
    "xmax=6.2832\n",
    "iterations=10\n",
    "def POP(d,N,xmin,xmax):\n",
    "    return (np.random.rand(N,d)*xmax)\n",
    "pop=POP(d,N,xmin,xmax)\n",
    "#fitness\n",
    "def fitness(pop):\n",
    "    return np.sin(pop)\n",
    "def findfitness(pop):\n",
    "    return np.apply_along_axis(fitness,1,pop)\n",
    "bests=np.empty((20,1))\n",
    "for j in range(0,20):\n",
    "        fit=findfitness(pop)\n",
    "        #Tournament Selection\n",
    "        parent=np.empty(N)\n",
    "        for i in range(0,N):\n",
    "            r1=np.random.randint(0,10)\n",
    "            r2=r1\n",
    "            while r2==r1:\n",
    "                r2=np.random.randint(0,10)\n",
    "            if fit[r1]<fit[r2]:\n",
    "                parent[i]=pop[r1]\n",
    "            else:\n",
    "                parent[i]=pop[r2]\n",
    "        #crossover\n",
    "        Pc=0.8\n",
    "        Uc=20\n",
    "        child=np.empty((int((Pc*N)),1))\n",
    "        for i in range(0,int(Pc*N),2):\n",
    "            r=np.random.rand()\n",
    "            if r<=0.5:\n",
    "                b=(2*r)**(1/(1+Uc))\n",
    "            else:\n",
    "                b=1/((2*(1-r))**(1/(1+Uc)))\n",
    "            child[i]= ((1+b)*parent[i]+(1-b)*parent[i+1])/2\n",
    "            child[i+1] =((1-b)*parent[i]+(1+b)*parent[i+1])/2\n",
    "        #Mutation\n",
    "        mpop=np.concatenate((pop, child), axis=0)\n",
    "        Pm=0.2\n",
    "        Um=20\n",
    "        for i in range(0,int(Pm*mpop.shape[0])):\n",
    "            r3=np.random.randint(0,mpop.shape[0])\n",
    "            r4=np.random.rand()\n",
    "            if r4<=0.5:\n",
    "                d=((2*r4)**(1/(1+Um)))-1\n",
    "            else:\n",
    "                d=1-((2*(1-r4))**(1/(1+Um)))\n",
    "            mpop[r3]+=d\n",
    "        fitness_b=findfitness(mpop)\n",
    "        sortindex=np.argsort(fitness_b,axis=0)\n",
    "        mpop=mpop[sortindex,:].reshape(int(N+(Pc*N)),1)\n",
    "        newgen=mpop[0:N,:]\n",
    "        fitness_a=findfitness(newgen)\n",
    "        if (j+1)%5==0:\n",
    "            plt.scatter(newgen,fitness_a)\n",
    "            plt.show()\n",
    "        bests[j]=newgen[0]        \n",
    "        pop=newgen\n",
    "bests"
   ]
  }
 ],
 "metadata": {
  "kernelspec": {
   "display_name": "Python 3",
   "language": "python",
   "name": "python3"
  },
  "language_info": {
   "codemirror_mode": {
    "name": "ipython",
    "version": 3
   },
   "file_extension": ".py",
   "mimetype": "text/x-python",
   "name": "python",
   "nbconvert_exporter": "python",
   "pygments_lexer": "ipython3",
   "version": "3.7.1"
  }
 },
 "nbformat": 4,
 "nbformat_minor": 2
}
