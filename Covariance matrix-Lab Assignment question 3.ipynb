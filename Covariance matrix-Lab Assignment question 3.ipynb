{
 "cells": [
  {
   "cell_type": "code",
   "execution_count": 19,
   "metadata": {},
   "outputs": [
    {
     "name": "stdout",
     "output_type": "stream",
     "text": [
      "[[ 867.45995556 -152.6616      -51.91964444   59.70431111]\n",
      " [-152.6616      696.6624     -104.57386667   31.00186667]\n",
      " [ -51.91964444 -104.57386667  804.87715556   18.15217778]\n",
      " [  59.70431111   31.00186667   18.15217778  753.21515556]]\n"
     ]
    }
   ],
   "source": [
    "import numpy as np\n",
    "x=np.random.randint(1,100,[150,4])\n",
    "def fun(a):\n",
    "    return np.mean(a)\n",
    "mean=np.apply_along_axis(fun,0,x)\n",
    "x_u=x-mean\n",
    "x_u_t=np.transpose(x_u)\n",
    "shape=x.shape[0]\n",
    "cov=(np.matmul(x_u_t,x_u))/shape\n",
    "print(cov)\n"
   ]
  }
 ],
 "metadata": {
  "kernelspec": {
   "display_name": "Python 3",
   "language": "python",
   "name": "python3"
  },
  "language_info": {
   "codemirror_mode": {
    "name": "ipython",
    "version": 3
   },
   "file_extension": ".py",
   "mimetype": "text/x-python",
   "name": "python",
   "nbconvert_exporter": "python",
   "pygments_lexer": "ipython3",
   "version": "3.7.1"
  }
 },
 "nbformat": 4,
 "nbformat_minor": 2
}
